{
 "cells": [
  {
   "cell_type": "markdown",
   "metadata": {},
   "source": [
    "As climate change is on the rise wildfire are becoming more frequent. The report from the Trump administration said that the warmer our country gets the more combustible it will be, and that with continued release of greenhouse gases fires will be more frequent. Fires may no longer just be a Western United States problem but a national problem. We know this because we have already seen increased burning in the West from dryer forests, warmer summers resulting in less snow, droughts, and by looking at human behavior where people are increasingly intruding into wildland areas. Unfortunately, this will only worsen climate change as fires increase carbon emissions setting off a deadly positive feedback loop.\n",
    "\n",
    "Pierre-louis, K., &amp; Popovich, N. (2018, November 27). Climate change is fueling wildfires nationwide, New Report warns. The New York Times. https://www.nytimes.com/interactive/2018/11/27/climate/wildfire-global-warming.html "
   ]
  },
  {
   "cell_type": "code",
   "execution_count": 3,
   "metadata": {},
   "outputs": [],
   "source": [
    "import os\n",
    "import warnings\n",
    "\n",
    "import earthpy as et\n",
    "import geopandas as gpd\n",
    "import geoviews as gv\n",
    "import holoviews as hv\n",
    "import hvplot.pandas\n",
    "import pandas as pd\n",
    "import pyogrio\n",
    "\n",
    "# warning.simplefilter('ignore')"
   ]
  },
  {
   "cell_type": "markdown",
   "metadata": {},
   "source": [
    "### Change for NHD\n",
    "The watershed boundary dataset is hydrologic unit dataset, which represent the area of the landscape that drains toa  portion of the stream network. They are determined based on topographic, hydrologic, an dother landscape characteristics. There are six hierarchial levels (two optional). The hydrologic unit codes (HUC) are made using a two digit system. The smaller areal unit is idneitited by adding two digitis to the identifying code, the sammer unit is nested within (2-16 digit codes).\n",
    "\n",
    "Access National Hydrography Products. Access National Hydrography Products | U.S. Geological Survey. (n.d.). https://www.usgs.gov/national-hydrography/access-national-hydrography-products "
   ]
  },
  {
   "cell_type": "code",
   "execution_count": 8,
   "metadata": {},
   "outputs": [
    {
     "name": "stdout",
     "output_type": "stream",
     "text": [
      "Downloading from https://prd-tnm.s3.amazonaws.com/StagedProducts/Hydrography/NHD/HU4/GDB/NHD_H_0101_HU4_GDB.zip\n",
      "Extracted output to /home/jovyan/earth-analytics/data/earthpy-downloads/NHD_H_0101_HU4_GDB\n"
     ]
    },
    {
     "data": {
      "text/plain": [
       "'/home/jovyan/earth-analytics/data/earthpy-downloads/NHD_H_0101_HU4_GDB'"
      ]
     },
     "execution_count": 8,
     "metadata": {},
     "output_type": "execute_result"
    }
   ],
   "source": [
    "# Downloading data and putting it into directory\n",
    "nhd_url = (\n",
    "    \"https://prd-tnm.s3.amazonaws.com/StagedProducts/Hydrography/NHD/HU4/\"\n",
    "    \"GDB/NHD_H_0101_HU4_GDB.zip\")\n",
    "nhd_dir = et.data.get_data(url=nhd_url)\n",
    "nhd_dir"
   ]
  },
  {
   "cell_type": "code",
   "execution_count": 9,
   "metadata": {},
   "outputs": [
    {
     "data": {
      "text/html": [
       "<div>\n",
       "<style scoped>\n",
       "    .dataframe tbody tr th:only-of-type {\n",
       "        vertical-align: middle;\n",
       "    }\n",
       "\n",
       "    .dataframe tbody tr th {\n",
       "        vertical-align: top;\n",
       "    }\n",
       "\n",
       "    .dataframe thead th {\n",
       "        text-align: right;\n",
       "    }\n",
       "</style>\n",
       "<table border=\"1\" class=\"dataframe\">\n",
       "  <thead>\n",
       "    <tr style=\"text-align: right;\">\n",
       "      <th></th>\n",
       "      <th>tnmid</th>\n",
       "      <th>metasourceid</th>\n",
       "      <th>sourcedatadesc</th>\n",
       "      <th>sourceoriginator</th>\n",
       "      <th>sourcefeatureid</th>\n",
       "      <th>loaddate</th>\n",
       "      <th>referencegnis_ids</th>\n",
       "      <th>areaacres</th>\n",
       "      <th>areasqkm</th>\n",
       "      <th>states</th>\n",
       "      <th>huc4</th>\n",
       "      <th>name</th>\n",
       "      <th>shape_Length</th>\n",
       "      <th>shape_Area</th>\n",
       "      <th>geometry</th>\n",
       "    </tr>\n",
       "  </thead>\n",
       "  <tbody>\n",
       "    <tr>\n",
       "      <th>0</th>\n",
       "      <td>{AAB11E45-75A7-47FE-85F1-AB3621CD80BD}</td>\n",
       "      <td>NaN</td>\n",
       "      <td>NaN</td>\n",
       "      <td>NaN</td>\n",
       "      <td>NaN</td>\n",
       "      <td>2019-10-15 17:01:06+00:00</td>\n",
       "      <td>NaN</td>\n",
       "      <td>9015709.69</td>\n",
       "      <td>36485.31</td>\n",
       "      <td>CN,ME</td>\n",
       "      <td>0101</td>\n",
       "      <td>St. John</td>\n",
       "      <td>20.685066</td>\n",
       "      <td>4.301762</td>\n",
       "      <td>MULTIPOLYGON (((-68.44994 48.09251, -68.44858 ...</td>\n",
       "    </tr>\n",
       "  </tbody>\n",
       "</table>\n",
       "</div>"
      ],
      "text/plain": [
       "                                    tnmid  metasourceid  sourcedatadesc  \\\n",
       "0  {AAB11E45-75A7-47FE-85F1-AB3621CD80BD}           NaN             NaN   \n",
       "\n",
       "   sourceoriginator  sourcefeatureid                  loaddate  \\\n",
       "0               NaN              NaN 2019-10-15 17:01:06+00:00   \n",
       "\n",
       "   referencegnis_ids   areaacres  areasqkm states  huc4      name  \\\n",
       "0                NaN  9015709.69  36485.31  CN,ME  0101  St. John   \n",
       "\n",
       "   shape_Length  shape_Area                                           geometry  \n",
       "0     20.685066    4.301762  MULTIPOLYGON (((-68.44994 48.09251, -68.44858 ...  "
      ]
     },
     "execution_count": 9,
     "metadata": {},
     "output_type": "execute_result"
    }
   ],
   "source": [
    "nhd_path = os.path.join(nhd_dir, 'NHD_H_0101_HU4_GDB.gdb')\n",
    "nhd_hu4_gdf = gpd.read_file(nhd_path, layer='WBDHU4', from_disk=True)\n",
    "nhd_hu4_gdf"
   ]
  },
  {
   "cell_type": "markdown",
   "metadata": {},
   "source": [
    "### National Hydrology (HU4) area"
   ]
  },
  {
   "cell_type": "code",
   "execution_count": 10,
   "metadata": {},
   "outputs": [
    {
     "data": {
      "text/plain": [
       "<Axes: >"
      ]
     },
     "execution_count": 10,
     "metadata": {},
     "output_type": "execute_result"
    },
    {
     "data": {
      "image/png": "[encoded data removed]",
      "text/plain": [
       "<Figure size 640x480 with 1 Axes>"
      ]
     },
     "metadata": {},
     "output_type": "display_data"
    }
   ],
   "source": [
    "# Check to make sure data is imported correctly \n",
    "nhd_hu4_gdf.plot()"
   ]
  },
  {
   "cell_type": "markdown",
   "metadata": {},
   "source": [
    "### Change for hydrology\n",
    "The data contains spatial databse of wildfires in the United States from 1992 to 2020. It was acquired from the reporting systems from federal, state, and local fire organizations. It required discovery date, final fire size, and a point location at least as precise and 1-square mile grid. It also had basic error checking and cleaning for repeat records which results in 2.3 million wildfire records. "
   ]
  },
  {
   "cell_type": "code",
   "execution_count": null,
   "metadata": {},
   "outputs": [],
   "source": [
    "# Figure out what we want to use for this\n",
    "fire_url = (\n",
    "    \"https://www.fs.usda.gov/rds/archive/products/RDS-2013-0009.6/RDS-20\"\n",
    "    \"13-0009.6_Data_Format2_GDB.zip\")\n",
    "fire_dir = et.data.get_data(url=fire_url)\n",
    "fire_dir"
   ]
  },
  {
   "cell_type": "code",
   "execution_count": null,
   "metadata": {},
   "outputs": [],
   "source": [
    "fire_path = os.path.join(fire_dir, 'Data', 'FPA_FOD_20221014.gdb')\n",
    "if not 'fire_gdf' in globals():\n",
    "    print('fire_gdf does not exsist. Loading...' )\n",
    "    fire_gdf = pyogrio.read_dataframe(fire_path, layer='Fires')\n",
    "\n",
    "fire_gdf.head()"
   ]
  },
  {
   "cell_type": "code",
   "execution_count": null,
   "metadata": {},
   "outputs": [],
   "source": [
    "fire_clean_gdf = (\n",
    "    fire_gdf\n",
    "    [['FOD_ID', 'DISCOVERY_DATE', 'FIRE_SIZE', 'geometry']]\n",
    "    .set_index('FOD_ID')\n",
    ")\n",
    "fire_clean_gdf.DICVOERY_DATE = pd.to_datetime(fire_clean_gdf.DISCOVERY_DATE)\n",
    "# print(fire_clean_gdf.crs)\n",
    "fire_clean_gdf = fire_clean_gdf.to_crs(wbd_hu2_gdf.crs)\n",
    "# print(fire_clean_gdf.crs)\n",
    "\n",
    "fire_clean_gdf"
   ]
  },
  {
   "cell_type": "code",
   "execution_count": null,
   "metadata": {},
   "outputs": [],
   "source": [
    "# Convert DISCOVERY_DATE to datetime if it's not already in datetime format\n",
    "fire_clean_gdf['DISCOVERY_DATE'] = pd.to_datetime(fire_clean_gdf['DISCOVERY_DATE'])\n",
    "\n",
    "# Your existing code for spatial join\n",
    "fire_region_gdf = (\n",
    "    wbd_hu2_gdf\n",
    "    [['name', 'geometry']]\n",
    "    .sjoin(fire_clean_gdf, how='inner', predicate='intersects')\n",
    ")\n",
    "\n",
    "# Convert DISCOVERY_DATE to datetime if it's not already in datetime format\n",
    "fire_region_gdf['DISCOVERY_DATE'] = pd.to_datetime(fire_region_gdf['DISCOVERY_DATE'])\n",
    "\n",
    "# Group by 'name' and year, and perform aggregation\n",
    "fire_region_gdf = (\n",
    "    fire_region_gdf\n",
    "    .groupby(['name', fire_region_gdf.DISCOVERY_DATE.dt.year])\n",
    "    .agg(\n",
    "        max_fire_size=('FIRE_SIZE', 'max'),\n",
    "        num_fires=('index_right', 'count'))\n",
    ")\n",
    "\n",
    "fire_region_gdf\n",
    "\n",
    "# Calculate the sum of num_fires as a check \n",
    "#total_num_fires = fire_region_gdf.num_fires.sum()\n",
    "#print(total_num_fires)"
   ]
  },
  {
   "cell_type": "code",
   "execution_count": null,
   "metadata": {},
   "outputs": [],
   "source": [
    "# Compute area in hectares\n",
    "wbd_hu2_gdf['area_ha'] = (\n",
    "    wbd_hu2_gdf.to_crs(9822).area\n",
    "     # Convert to hectares \n",
    "      /10000\n",
    "      # conevert to millions of hectares\n",
    "       /1000000\n",
    ")\n",
    "\n",
    "# Computing total fires in each watershed \n",
    "fire_count_df = (\n",
    "    fire_region_gdf\n",
    "    .reset_index()\n",
    "    [['name', 'num_fires']]\n",
    "    .groupby('name')\n",
    "    .sum())\n",
    "\n",
    "# Add the area na dgeometry back in\n",
    "fire_density_gdf = (\n",
    "    wbd_hu2_gdf\n",
    "    .set_index('name')\n",
    "    .join(fire_count_df)\n",
    "    [['num_fires', 'area_ha', 'geometry']]\n",
    ")\n",
    "\n",
    "\n",
    "# Computing fire desntiy\n",
    "fire_density_gdf['fire_density_per_ha'] = (\n",
    "    fire_density_gdf.num_fires / fire_density_gdf.area_ha)\n",
    "\n",
    "print(type(fire_density_gdf))\n",
    "fire_density_gdf.fire_density_per_ha"
   ]
  },
  {
   "cell_type": "code",
   "execution_count": null,
   "metadata": {},
   "outputs": [],
   "source": [
    "# Set values for ylabels and titles\n",
    "labels = pd.DataFrame(dict(\n",
    "    column_name = ['max_fire_size', 'num_fires'],\n",
    "    ylabel = ['Fire Size (million ha)', 'Number of Fires'],\n",
    "    title = ['Largest fire on record in the region', \n",
    "             'Total number of fires in the region']))\n",
    "print(labels)\n",
    "\n",
    "def fire_plot(region_name, df=fire_region_gdf, labels=labels):\n",
    "    \"\"\"\n",
    "    Create a multi-panel plot for a region\n",
    "\n",
    "    Parameters\n",
    "    ----------\n",
    "    region_name : str\n",
    "      The name of the region to generate a plot for. Must exists \n",
    "      in the 'name' index of df.\n",
    "    df : pd.DataFrame\n",
    "      The dataframe with the data to plot. Columns much match\n",
    "      an item in labels.column_name to be plotted\n",
    "    labels : pd.DataFrame\n",
    "      Plot labels. Must have a 'column_name', 'ylabel', and 'title'\n",
    "      columns with str values. Each row will be a subplot.\n",
    "\n",
    "    Returns\n",
    "    -------\n",
    "    plot : hv.core.layout.Layout\n",
    "      A holoviews plot layout or similar. For use with hv.DynamicMap.\n",
    "    \"\"\"\n",
    "    # Generate a subplot for each row in the labels\n",
    "    subplots = []\n",
    "    # Iterate through the labels row by row\n",
    "    for i, labs in labels.iterrows():\n",
    "        # Create subplot\n",
    "        subplot = (\n",
    "            df.xs(region_name, level='name')\n",
    "            [[labs.column_name]]\n",
    "            .hvplot(\n",
    "                xlabel='Year', ylabel=labs.ylabel, title=labs.title,\n",
    "                width=1000, color='red', size=2\n",
    "            ))\n",
    "        subplots.append(subplot)\n",
    "\n",
    "    # Stack the subplots vertically\n",
    "    plot = hv.Layout(subplots).cols(1)\n",
    "    return plot\n",
    "\n",
    "# Create a dropdown menu to switch between regions\n",
    "(\n",
    "    hv.DynamicMap(\n",
    "        # The plotting function for the two-panel fire history\n",
    "        fire_plot,\n",
    "        # Define the dimension for the dropdown\n",
    "        kdims=[('region', 'Region')])\n",
    "    # Add the explicit indexing - region names as a bokeh dimension\n",
    "    .redim.values(region=fire_region_gdf.reset_index().name)\n",
    ")\n",
    "\n",
    "#region = input('What region do you want to use?')"
   ]
  },
  {
   "cell_type": "code",
   "execution_count": null,
   "metadata": {},
   "outputs": [],
   "source": [
    "fire_density_gdf.geometry = fire_density_gdf.simplify(tolerance=.1)"
   ]
  },
  {
   "cell_type": "code",
   "execution_count": null,
   "metadata": {},
   "outputs": [],
   "source": [
    "#data = gpd.read_file(gds.get_path('geoda airbnb'))\n",
    "poly_plot = (\n",
    "    gv.Polygons(\n",
    "        fire_density_gdf\n",
    "            .drop(['Alaska Region', 'Hawaii Region'], axis='rows')\n",
    "            .reset_index()\n",
    "            .dropna()\n",
    "            [['fire_density_per_ha', 'geometry']])\n",
    "    .opts(\n",
    "        width=600, height=600,\n",
    "        colorbar=True, color='fire_density',\n",
    "        cmap='plasma', line_color='white',\n",
    "        xaxis='bare', yaxis='bare', tools=['hover'],\n",
    "    )\n",
    ")\n",
    "\n",
    "(gv.tile_sources.OSM * poly_plot)\n",
    "\n",
    "#gv.tile_sources.EsriNatGeo * poly_plot) can do this for personal new map"
   ]
  }
 ],
 "metadata": {
  "kernelspec": {
   "display_name": "base",
   "language": "python",
   "name": "python3"
  },
  "language_info": {
   "codemirror_mode": {
    "name": "ipython",
    "version": 3
   },
   "file_extension": ".py",
   "mimetype": "text/x-python",
   "name": "python",
   "nbconvert_exporter": "python",
   "pygments_lexer": "ipython3",
   "version": "3.10.11"
  }
 },
 "nbformat": 4,
 "nbformat_minor": 2
}
