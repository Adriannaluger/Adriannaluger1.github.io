{
 "cells": [
  {
   "cell_type": "code",
   "execution_count": 4,
   "metadata": {},
   "outputs": [
    {
     "ename": "ModuleNotFoundError",
     "evalue": "No module named 'earthpy.appeears'",
     "output_type": "error",
     "traceback": [
      "\u001b[0;31m---------------------------------------------------------------------------\u001b[0m",
      "\u001b[0;31mModuleNotFoundError\u001b[0m                       Traceback (most recent call last)",
      "\u001b[1;32m/workspaces/Adriannaluger.github.io/notebooks/ndvi_maple_fire.ipynb Cell 1\u001b[0m line \u001b[0;36m8\n\u001b[1;32m      <a href='vscode-notebook-cell://codespaces%2Bfluffy-robot-4j76r6wr66x9cqq5r/workspaces/Adriannaluger.github.io/notebooks/ndvi_maple_fire.ipynb#W0sdnNjb2RlLXJlbW90ZQ%3D%3D?line=4'>5</a>\u001b[0m \u001b[39mimport\u001b[39;00m \u001b[39mwarnings\u001b[39;00m\n\u001b[1;32m      <a href='vscode-notebook-cell://codespaces%2Bfluffy-robot-4j76r6wr66x9cqq5r/workspaces/Adriannaluger.github.io/notebooks/ndvi_maple_fire.ipynb#W0sdnNjb2RlLXJlbW90ZQ%3D%3D?line=5'>6</a>\u001b[0m \u001b[39mfrom\u001b[39;00m \u001b[39mglob\u001b[39;00m \u001b[39mimport\u001b[39;00m glob\n\u001b[0;32m----> <a href='vscode-notebook-cell://codespaces%2Bfluffy-robot-4j76r6wr66x9cqq5r/workspaces/Adriannaluger.github.io/notebooks/ndvi_maple_fire.ipynb#W0sdnNjb2RlLXJlbW90ZQ%3D%3D?line=7'>8</a>\u001b[0m \u001b[39mimport\u001b[39;00m \u001b[39mearthpy\u001b[39;00m\u001b[39m.\u001b[39;00m\u001b[39mappeears\u001b[39;00m \u001b[39mas\u001b[39;00m \u001b[39metapp\u001b[39;00m\n\u001b[1;32m      <a href='vscode-notebook-cell://codespaces%2Bfluffy-robot-4j76r6wr66x9cqq5r/workspaces/Adriannaluger.github.io/notebooks/ndvi_maple_fire.ipynb#W0sdnNjb2RlLXJlbW90ZQ%3D%3D?line=8'>9</a>\u001b[0m \u001b[39mimport\u001b[39;00m \u001b[39mfolium\u001b[39;00m\n\u001b[1;32m     <a href='vscode-notebook-cell://codespaces%2Bfluffy-robot-4j76r6wr66x9cqq5r/workspaces/Adriannaluger.github.io/notebooks/ndvi_maple_fire.ipynb#W0sdnNjb2RlLXJlbW90ZQ%3D%3D?line=9'>10</a>\u001b[0m \u001b[39mimport\u001b[39;00m \u001b[39mgeopandas\u001b[39;00m \u001b[39mas\u001b[39;00m \u001b[39mgpd\u001b[39;00m\n",
      "\u001b[0;31mModuleNotFoundError\u001b[0m: No module named 'earthpy.appeears'"
     ]
    }
   ],
   "source": [
    "import logging\n",
    "import os\n",
    "import pathlib\n",
    "import subprocess\n",
    "import warnings\n",
    "from glob import glob\n",
    "\n",
    "import earthpy.appeears as etapp\n",
    "import folium\n",
    "import geopandas as gpd\n",
    "import hvplot.pandas\n",
    "import hvplot.xarray\n",
    "import pandas as pd\n",
    "import rioxarray as rxr\n",
    "import xarray as xr\n",
    "\n",
    "\n",
    "# Set up logging so AppeearsDownloader will log in notebook\n",
    "logging.basicConfig(level=logging.INFO)\n",
    "\n",
    "# Ignore FutureWarning coming from hvplot\n",
    "warnings.simplefilter(action=\"ignore\", category=FutureWarning)"
   ]
  },
  {
   "cell_type": "code",
   "execution_count": 5,
   "metadata": {},
   "outputs": [],
   "source": [
    "# Generating the path to the project directory\n",
    "project_dir = os.path.join(\n",
    "    pathlib.Path.home(), \"earth-analytics\", \"data\", \"camp_fire\"\n",
    ")\n",
    "\n",
    "# Create the project directory\n",
    "os.makedirs(project_dir, exist_ok=True)"
   ]
  },
  {
   "cell_type": "code",
   "execution_count": 6,
   "metadata": {},
   "outputs": [
    {
     "ename": "NameError",
     "evalue": "name 'gpd' is not defined",
     "output_type": "error",
     "traceback": [
      "\u001b[0;31m---------------------------------------------------------------------------\u001b[0m",
      "\u001b[0;31mNameError\u001b[0m                                 Traceback (most recent call last)",
      "\u001b[1;32m/workspaces/Adriannaluger.github.io/notebooks/ndvi_maple_fire.ipynb Cell 3\u001b[0m line \u001b[0;36m9\n\u001b[1;32m      <a href='vscode-notebook-cell://codespaces%2Bfluffy-robot-4j76r6wr66x9cqq5r/workspaces/Adriannaluger.github.io/notebooks/ndvi_maple_fire.ipynb#W2sdnNjb2RlLXJlbW90ZQ%3D%3D?line=1'>2</a>\u001b[0m fire_url \u001b[39m=\u001b[39m (\n\u001b[1;32m      <a href='vscode-notebook-cell://codespaces%2Bfluffy-robot-4j76r6wr66x9cqq5r/workspaces/Adriannaluger.github.io/notebooks/ndvi_maple_fire.ipynb#W2sdnNjb2RlLXJlbW90ZQ%3D%3D?line=2'>3</a>\u001b[0m     \u001b[39m\"\u001b[39m\u001b[39mhttps://services3.arcgis.com/T4QMspbfLg3qTGWY/arcgis/\u001b[39m\u001b[39m\"\u001b[39m\n\u001b[1;32m      <a href='vscode-notebook-cell://codespaces%2Bfluffy-robot-4j76r6wr66x9cqq5r/workspaces/Adriannaluger.github.io/notebooks/ndvi_maple_fire.ipynb#W2sdnNjb2RlLXJlbW90ZQ%3D%3D?line=3'>4</a>\u001b[0m     \u001b[39m\"\u001b[39m\u001b[39mrest/services/Historic_Geomac_Perimeters_2018/\u001b[39m\u001b[39m\"\u001b[39m\n\u001b[1;32m      <a href='vscode-notebook-cell://codespaces%2Bfluffy-robot-4j76r6wr66x9cqq5r/workspaces/Adriannaluger.github.io/notebooks/ndvi_maple_fire.ipynb#W2sdnNjb2RlLXJlbW90ZQ%3D%3D?line=4'>5</a>\u001b[0m     \u001b[39m\"\u001b[39m\u001b[39mFeatureServer/0/query?where=1\u001b[39m\u001b[39m%\u001b[39m\u001b[39m3D1&outFields=*&outSR=4326&f=json\u001b[39m\u001b[39m\"\u001b[39m\n\u001b[1;32m      <a href='vscode-notebook-cell://codespaces%2Bfluffy-robot-4j76r6wr66x9cqq5r/workspaces/Adriannaluger.github.io/notebooks/ndvi_maple_fire.ipynb#W2sdnNjb2RlLXJlbW90ZQ%3D%3D?line=5'>6</a>\u001b[0m     )\n\u001b[1;32m      <a href='vscode-notebook-cell://codespaces%2Bfluffy-robot-4j76r6wr66x9cqq5r/workspaces/Adriannaluger.github.io/notebooks/ndvi_maple_fire.ipynb#W2sdnNjb2RlLXJlbW90ZQ%3D%3D?line=7'>8</a>\u001b[0m \u001b[39m# Create fire_gdf using geopandas\u001b[39;00m\n\u001b[0;32m----> <a href='vscode-notebook-cell://codespaces%2Bfluffy-robot-4j76r6wr66x9cqq5r/workspaces/Adriannaluger.github.io/notebooks/ndvi_maple_fire.ipynb#W2sdnNjb2RlLXJlbW90ZQ%3D%3D?line=8'>9</a>\u001b[0m fire_gdf \u001b[39m=\u001b[39m gpd\u001b[39m.\u001b[39mread_file(fire_url)\n",
      "\u001b[0;31mNameError\u001b[0m: name 'gpd' is not defined"
     ]
    }
   ],
   "source": [
    "# Define link to fire data\n",
    "fire_url = (\n",
    "    \"https://services3.arcgis.com/T4QMspbfLg3qTGWY/arcgis/\"\n",
    "    \"rest/services/Historic_Geomac_Perimeters_2018/\"\n",
    "    \"FeatureServer/0/query?where=1%3D1&outFields=*&outSR=4326&f=json\"\n",
    "    )\n",
    "\n",
    "# Create fire_gdf using geopandas\n",
    "fire_gdf = gpd.read_file(fire_url)"
   ]
  },
  {
   "cell_type": "code",
   "execution_count": 7,
   "metadata": {},
   "outputs": [
    {
     "ename": "NameError",
     "evalue": "name 'fire_gdf' is not defined",
     "output_type": "error",
     "traceback": [
      "\u001b[0;31m---------------------------------------------------------------------------\u001b[0m",
      "\u001b[0;31mNameError\u001b[0m                                 Traceback (most recent call last)",
      "\u001b[1;32m/workspaces/Adriannaluger.github.io/notebooks/ndvi_maple_fire.ipynb Cell 4\u001b[0m line \u001b[0;36m2\n\u001b[1;32m      <a href='vscode-notebook-cell://codespaces%2Bfluffy-robot-4j76r6wr66x9cqq5r/workspaces/Adriannaluger.github.io/notebooks/ndvi_maple_fire.ipynb#W3sdnNjb2RlLXJlbW90ZQ%3D%3D?line=0'>1</a>\u001b[0m \u001b[39m# Select out the boundary for Maple Fire\u001b[39;00m\n\u001b[0;32m----> <a href='vscode-notebook-cell://codespaces%2Bfluffy-robot-4j76r6wr66x9cqq5r/workspaces/Adriannaluger.github.io/notebooks/ndvi_maple_fire.ipynb#W3sdnNjb2RlLXJlbW90ZQ%3D%3D?line=1'>2</a>\u001b[0m campfire_gdf \u001b[39m=\u001b[39m fire_gdf\u001b[39m.\u001b[39mloc[fire_gdf[\u001b[39m'\u001b[39m\u001b[39mincidentname\u001b[39m\u001b[39m'\u001b[39m] \u001b[39m==\u001b[39m \u001b[39m'\u001b[39m\u001b[39mMaple\u001b[39m\u001b[39m'\u001b[39m]\n",
      "\u001b[0;31mNameError\u001b[0m: name 'fire_gdf' is not defined"
     ]
    }
   ],
   "source": [
    "# Select out the boundary for Maple Fire\n",
    "campfire_gdf = fire_gdf.loc[fire_gdf['incidentname'] == 'Maple']"
   ]
  },
  {
   "cell_type": "markdown",
   "metadata": {},
   "source": [
    "### Pinpoint location of the Maple Fire\n",
    "\n",
    "The Maple Fire was a wildfire in the Olympic Mountains, Washington. The fire was caused by a crew of timber poachers who were attempting to steal Big-Leaf Maple trees from the Olympic National Park. The crew discovered a potential target tree on August 3, 2018, but were unable to harvest it due to a wasp nest at the base of the tree. After failing to exterminate the nest with insecticides, the crew deliberately set fire to the nest. The fire grew out of control, and the logging crew fled. The fire was reported the following day, and it was not considered contained until October 10, and continued to smolder until seasonal rains finally extinguished it in November. The Maple Fire ultimately burned 3,300 acres (13 km2) of wildland, and was the first time that tree DNA has ever been used in a federal trial in the United States."
   ]
  },
  {
   "cell_type": "code",
   "execution_count": 8,
   "metadata": {},
   "outputs": [
    {
     "ename": "NameError",
     "evalue": "name 'folium' is not defined",
     "output_type": "error",
     "traceback": [
      "\u001b[0;31m---------------------------------------------------------------------------\u001b[0m",
      "\u001b[0;31mNameError\u001b[0m                                 Traceback (most recent call last)",
      "\u001b[1;32m/workspaces/Adriannaluger.github.io/notebooks/ndvi_maple_fire.ipynb Cell 6\u001b[0m line \u001b[0;36m6\n\u001b[1;32m      <a href='vscode-notebook-cell://codespaces%2Bfluffy-robot-4j76r6wr66x9cqq5r/workspaces/Adriannaluger.github.io/notebooks/ndvi_maple_fire.ipynb#W5sdnNjb2RlLXJlbW90ZQ%3D%3D?line=3'>4</a>\u001b[0m paradise_lon \u001b[39m=\u001b[39m \u001b[39m-\u001b[39m\u001b[39m123.1370\u001b[39m\n\u001b[1;32m      <a href='vscode-notebook-cell://codespaces%2Bfluffy-robot-4j76r6wr66x9cqq5r/workspaces/Adriannaluger.github.io/notebooks/ndvi_maple_fire.ipynb#W5sdnNjb2RlLXJlbW90ZQ%3D%3D?line=4'>5</a>\u001b[0m \u001b[39m# Create a Folium map object\u001b[39;00m\n\u001b[0;32m----> <a href='vscode-notebook-cell://codespaces%2Bfluffy-robot-4j76r6wr66x9cqq5r/workspaces/Adriannaluger.github.io/notebooks/ndvi_maple_fire.ipynb#W5sdnNjb2RlLXJlbW90ZQ%3D%3D?line=5'>6</a>\u001b[0m m \u001b[39m=\u001b[39m folium\u001b[39m.\u001b[39mMap(\n\u001b[1;32m      <a href='vscode-notebook-cell://codespaces%2Bfluffy-robot-4j76r6wr66x9cqq5r/workspaces/Adriannaluger.github.io/notebooks/ndvi_maple_fire.ipynb#W5sdnNjb2RlLXJlbW90ZQ%3D%3D?line=6'>7</a>\u001b[0m     location\u001b[39m=\u001b[39m[paradise_lat, paradise_lon], \n\u001b[1;32m      <a href='vscode-notebook-cell://codespaces%2Bfluffy-robot-4j76r6wr66x9cqq5r/workspaces/Adriannaluger.github.io/notebooks/ndvi_maple_fire.ipynb#W5sdnNjb2RlLXJlbW90ZQ%3D%3D?line=7'>8</a>\u001b[0m     zoom_start\u001b[39m=\u001b[39m\u001b[39m13.5\u001b[39m,\n\u001b[1;32m      <a href='vscode-notebook-cell://codespaces%2Bfluffy-robot-4j76r6wr66x9cqq5r/workspaces/Adriannaluger.github.io/notebooks/ndvi_maple_fire.ipynb#W5sdnNjb2RlLXJlbW90ZQ%3D%3D?line=8'>9</a>\u001b[0m     scrollWheelZoom\u001b[39m=\u001b[39m\u001b[39mFalse\u001b[39;00m,\n\u001b[1;32m     <a href='vscode-notebook-cell://codespaces%2Bfluffy-robot-4j76r6wr66x9cqq5r/workspaces/Adriannaluger.github.io/notebooks/ndvi_maple_fire.ipynb#W5sdnNjb2RlLXJlbW90ZQ%3D%3D?line=9'>10</a>\u001b[0m     tiles\u001b[39m=\u001b[39m\u001b[39m'\u001b[39m\u001b[39mStamen Watercolor\u001b[39m\u001b[39m'\u001b[39m)\n\u001b[1;32m     <a href='vscode-notebook-cell://codespaces%2Bfluffy-robot-4j76r6wr66x9cqq5r/workspaces/Adriannaluger.github.io/notebooks/ndvi_maple_fire.ipynb#W5sdnNjb2RlLXJlbW90ZQ%3D%3D?line=11'>12</a>\u001b[0m \u001b[39m# Convert the GeoDataFrame to GeoJSON format\u001b[39;00m\n\u001b[1;32m     <a href='vscode-notebook-cell://codespaces%2Bfluffy-robot-4j76r6wr66x9cqq5r/workspaces/Adriannaluger.github.io/notebooks/ndvi_maple_fire.ipynb#W5sdnNjb2RlLXJlbW90ZQ%3D%3D?line=12'>13</a>\u001b[0m camp_geojson \u001b[39m=\u001b[39m campfire_gdf\u001b[39m.\u001b[39mto_json()\n",
      "\u001b[0;31mNameError\u001b[0m: name 'folium' is not defined"
     ]
    }
   ],
   "source": [
    "# Jefferson Ridge, Washington location\n",
    "# Found lat/long and updated zoom\n",
    "paradise_lat = 47.5857\n",
    "paradise_lon = -123.1370\n",
    "# Create a Folium map object\n",
    "m = folium.Map(\n",
    "    location=[paradise_lat, paradise_lon], \n",
    "    zoom_start=13.5,\n",
    "    scrollWheelZoom=False,\n",
    "    tiles='Stamen Watercolor')\n",
    "\n",
    "# Convert the GeoDataFrame to GeoJSON format\n",
    "camp_geojson = campfire_gdf.to_json()\n",
    "\n",
    "# Add the GeoJSON data to the map as a GeoJson layer\n",
    "camp_style = {\n",
    "     \"fillColor\": \"red\",\n",
    "        \"color\": \"black\",\n",
    "        \"weight\": 2,\n",
    "        \"dashArray\": \"5,5\",\n",
    "}\n",
    "folium.GeoJson(\n",
    "    camp_geojson, \n",
    "    style_function=lambda feature: camp_style\n",
    "    ).add_to(m)\n",
    "\n",
    "# Add a marker \n",
    "folium.Marker(location=[paradise_lat, paradise_lon],).add_to(m)\n",
    "\n",
    "\n",
    "# Display the map\n",
    "m"
   ]
  },
  {
   "cell_type": "code",
   "execution_count": 9,
   "metadata": {},
   "outputs": [
    {
     "ename": "NameError",
     "evalue": "name 'etapp' is not defined",
     "output_type": "error",
     "traceback": [
      "\u001b[0;31m---------------------------------------------------------------------------\u001b[0m",
      "\u001b[0;31mNameError\u001b[0m                                 Traceback (most recent call last)",
      "\u001b[1;32m/workspaces/Adriannaluger.github.io/notebooks/ndvi_maple_fire.ipynb Cell 7\u001b[0m line \u001b[0;36m2\n\u001b[1;32m      <a href='vscode-notebook-cell://codespaces%2Bfluffy-robot-4j76r6wr66x9cqq5r/workspaces/Adriannaluger.github.io/notebooks/ndvi_maple_fire.ipynb#W6sdnNjb2RlLXJlbW90ZQ%3D%3D?line=0'>1</a>\u001b[0m \u001b[39m# Initialize AppeearsDownloader for MODIS NDVI data\u001b[39;00m\n\u001b[0;32m----> <a href='vscode-notebook-cell://codespaces%2Bfluffy-robot-4j76r6wr66x9cqq5r/workspaces/Adriannaluger.github.io/notebooks/ndvi_maple_fire.ipynb#W6sdnNjb2RlLXJlbW90ZQ%3D%3D?line=1'>2</a>\u001b[0m ndvi_downloader \u001b[39m=\u001b[39m etapp\u001b[39m.\u001b[39mAppeearsDownloader(\n\u001b[1;32m      <a href='vscode-notebook-cell://codespaces%2Bfluffy-robot-4j76r6wr66x9cqq5r/workspaces/Adriannaluger.github.io/notebooks/ndvi_maple_fire.ipynb#W6sdnNjb2RlLXJlbW90ZQ%3D%3D?line=2'>3</a>\u001b[0m     download_key\u001b[39m=\u001b[39m\u001b[39m\"\u001b[39m\u001b[39mmodis-ndvi\u001b[39m\u001b[39m\"\u001b[39m,\n\u001b[1;32m      <a href='vscode-notebook-cell://codespaces%2Bfluffy-robot-4j76r6wr66x9cqq5r/workspaces/Adriannaluger.github.io/notebooks/ndvi_maple_fire.ipynb#W6sdnNjb2RlLXJlbW90ZQ%3D%3D?line=3'>4</a>\u001b[0m     ea_dir\u001b[39m=\u001b[39mproject_dir,\n\u001b[1;32m      <a href='vscode-notebook-cell://codespaces%2Bfluffy-robot-4j76r6wr66x9cqq5r/workspaces/Adriannaluger.github.io/notebooks/ndvi_maple_fire.ipynb#W6sdnNjb2RlLXJlbW90ZQ%3D%3D?line=4'>5</a>\u001b[0m     product\u001b[39m=\u001b[39m\u001b[39m\"\u001b[39m\u001b[39mMYD13Q1.061\u001b[39m\u001b[39m\"\u001b[39m,\n\u001b[1;32m      <a href='vscode-notebook-cell://codespaces%2Bfluffy-robot-4j76r6wr66x9cqq5r/workspaces/Adriannaluger.github.io/notebooks/ndvi_maple_fire.ipynb#W6sdnNjb2RlLXJlbW90ZQ%3D%3D?line=5'>6</a>\u001b[0m     layer\u001b[39m=\u001b[39m\u001b[39m\"\u001b[39m\u001b[39m_250m_16_days_NDVI\u001b[39m\u001b[39m\"\u001b[39m,\n\u001b[1;32m      <a href='vscode-notebook-cell://codespaces%2Bfluffy-robot-4j76r6wr66x9cqq5r/workspaces/Adriannaluger.github.io/notebooks/ndvi_maple_fire.ipynb#W6sdnNjb2RlLXJlbW90ZQ%3D%3D?line=6'>7</a>\u001b[0m     start_date\u001b[39m=\u001b[39m\u001b[39m\"\u001b[39m\u001b[39m08-01\u001b[39m\u001b[39m\"\u001b[39m,\n\u001b[1;32m      <a href='vscode-notebook-cell://codespaces%2Bfluffy-robot-4j76r6wr66x9cqq5r/workspaces/Adriannaluger.github.io/notebooks/ndvi_maple_fire.ipynb#W6sdnNjb2RlLXJlbW90ZQ%3D%3D?line=7'>8</a>\u001b[0m     end_date\u001b[39m=\u001b[39m\u001b[39m\"\u001b[39m\u001b[39m12-31\u001b[39m\u001b[39m\"\u001b[39m,\n\u001b[1;32m      <a href='vscode-notebook-cell://codespaces%2Bfluffy-robot-4j76r6wr66x9cqq5r/workspaces/Adriannaluger.github.io/notebooks/ndvi_maple_fire.ipynb#W6sdnNjb2RlLXJlbW90ZQ%3D%3D?line=8'>9</a>\u001b[0m     recurring\u001b[39m=\u001b[39m\u001b[39mTrue\u001b[39;00m,\n\u001b[1;32m     <a href='vscode-notebook-cell://codespaces%2Bfluffy-robot-4j76r6wr66x9cqq5r/workspaces/Adriannaluger.github.io/notebooks/ndvi_maple_fire.ipynb#W6sdnNjb2RlLXJlbW90ZQ%3D%3D?line=9'>10</a>\u001b[0m     year_range\u001b[39m=\u001b[39m[\u001b[39m2017\u001b[39m, \u001b[39m2022\u001b[39m],\n\u001b[1;32m     <a href='vscode-notebook-cell://codespaces%2Bfluffy-robot-4j76r6wr66x9cqq5r/workspaces/Adriannaluger.github.io/notebooks/ndvi_maple_fire.ipynb#W6sdnNjb2RlLXJlbW90ZQ%3D%3D?line=10'>11</a>\u001b[0m     polygon\u001b[39m=\u001b[39mcampfire_gdf\n\u001b[1;32m     <a href='vscode-notebook-cell://codespaces%2Bfluffy-robot-4j76r6wr66x9cqq5r/workspaces/Adriannaluger.github.io/notebooks/ndvi_maple_fire.ipynb#W6sdnNjb2RlLXJlbW90ZQ%3D%3D?line=11'>12</a>\u001b[0m )\n\u001b[1;32m     <a href='vscode-notebook-cell://codespaces%2Bfluffy-robot-4j76r6wr66x9cqq5r/workspaces/Adriannaluger.github.io/notebooks/ndvi_maple_fire.ipynb#W6sdnNjb2RlLXJlbW90ZQ%3D%3D?line=13'>14</a>\u001b[0m \u001b[39m# Download files if the download directory does not exist\u001b[39;00m\n\u001b[1;32m     <a href='vscode-notebook-cell://codespaces%2Bfluffy-robot-4j76r6wr66x9cqq5r/workspaces/Adriannaluger.github.io/notebooks/ndvi_maple_fire.ipynb#W6sdnNjb2RlLXJlbW90ZQ%3D%3D?line=14'>15</a>\u001b[0m \u001b[39mif\u001b[39;00m \u001b[39mnot\u001b[39;00m os\u001b[39m.\u001b[39mpath\u001b[39m.\u001b[39mexists(ndvi_downloader\u001b[39m.\u001b[39mdata_dir):\n",
      "\u001b[0;31mNameError\u001b[0m: name 'etapp' is not defined"
     ]
    }
   ],
   "source": [
    "# Initialize AppeearsDownloader for MODIS NDVI data\n",
    "ndvi_downloader = etapp.AppeearsDownloader(\n",
    "    download_key=\"modis-ndvi\",\n",
    "    ea_dir=project_dir,\n",
    "    product=\"MYD13Q1.061\",\n",
    "    layer=\"_250m_16_days_NDVI\",\n",
    "    start_date=\"08-01\",\n",
    "    end_date=\"12-31\",\n",
    "    recurring=True,\n",
    "    year_range=[2017, 2022],\n",
    "    polygon=campfire_gdf\n",
    ")\n",
    "\n",
    "# Download files if the download directory does not exist\n",
    "if not os.path.exists(ndvi_downloader.data_dir):\n",
    "    ndvi_downloader.download_files()\n",
    "\n",
    "# AppeearsDownloader"
   ]
  },
  {
   "cell_type": "code",
   "execution_count": 10,
   "metadata": {},
   "outputs": [
    {
     "ename": "NameError",
     "evalue": "name 'ndvi_downloader' is not defined",
     "output_type": "error",
     "traceback": [
      "\u001b[0;31m---------------------------------------------------------------------------\u001b[0m",
      "\u001b[0;31mNameError\u001b[0m                                 Traceback (most recent call last)",
      "\u001b[1;32m/workspaces/Adriannaluger.github.io/notebooks/ndvi_maple_fire.ipynb Cell 8\u001b[0m line \u001b[0;36m2\n\u001b[1;32m      <a href='vscode-notebook-cell://codespaces%2Bfluffy-robot-4j76r6wr66x9cqq5r/workspaces/Adriannaluger.github.io/notebooks/ndvi_maple_fire.ipynb#X10sdnNjb2RlLXJlbW90ZQ%3D%3D?line=0'>1</a>\u001b[0m ndvi_path_list \u001b[39m=\u001b[39m glob(os\u001b[39m.\u001b[39mpath\u001b[39m.\u001b[39mjoin(\n\u001b[0;32m----> <a href='vscode-notebook-cell://codespaces%2Bfluffy-robot-4j76r6wr66x9cqq5r/workspaces/Adriannaluger.github.io/notebooks/ndvi_maple_fire.ipynb#X10sdnNjb2RlLXJlbW90ZQ%3D%3D?line=1'>2</a>\u001b[0m     ndvi_downloader\u001b[39m.\u001b[39mdata_dir, \u001b[39m'\u001b[39m\u001b[39m*\u001b[39m\u001b[39m'\u001b[39m, \u001b[39m'\u001b[39m\u001b[39m*NDVI*.tif\u001b[39m\u001b[39m'\u001b[39m))\n",
      "\u001b[0;31mNameError\u001b[0m: name 'ndvi_downloader' is not defined"
     ]
    }
   ],
   "source": [
    "ndvi_path_list = glob(os.path.join(\n",
    "    ndvi_downloader.data_dir, '*', '*NDVI*.tif'))"
   ]
  },
  {
   "cell_type": "code",
   "execution_count": 11,
   "metadata": {},
   "outputs": [
    {
     "ename": "NameError",
     "evalue": "name 'ndvi_path_list' is not defined",
     "output_type": "error",
     "traceback": [
      "\u001b[0;31m---------------------------------------------------------------------------\u001b[0m",
      "\u001b[0;31mNameError\u001b[0m                                 Traceback (most recent call last)",
      "\u001b[1;32m/workspaces/Adriannaluger.github.io/notebooks/ndvi_maple_fire.ipynb Cell 9\u001b[0m line \u001b[0;36m6\n\u001b[1;32m      <a href='vscode-notebook-cell://codespaces%2Bfluffy-robot-4j76r6wr66x9cqq5r/workspaces/Adriannaluger.github.io/notebooks/ndvi_maple_fire.ipynb#X11sdnNjb2RlLXJlbW90ZQ%3D%3D?line=2'>3</a>\u001b[0m scale_factor \u001b[39m=\u001b[39m \u001b[39m10000\u001b[39m\n\u001b[1;32m      <a href='vscode-notebook-cell://codespaces%2Bfluffy-robot-4j76r6wr66x9cqq5r/workspaces/Adriannaluger.github.io/notebooks/ndvi_maple_fire.ipynb#X11sdnNjb2RlLXJlbW90ZQ%3D%3D?line=4'>5</a>\u001b[0m ndvi_da_list \u001b[39m=\u001b[39m []\n\u001b[0;32m----> <a href='vscode-notebook-cell://codespaces%2Bfluffy-robot-4j76r6wr66x9cqq5r/workspaces/Adriannaluger.github.io/notebooks/ndvi_maple_fire.ipynb#X11sdnNjb2RlLXJlbW90ZQ%3D%3D?line=5'>6</a>\u001b[0m \u001b[39mfor\u001b[39;00m ndvi_path \u001b[39min\u001b[39;00m ndvi_path_list:\n\u001b[1;32m      <a href='vscode-notebook-cell://codespaces%2Bfluffy-robot-4j76r6wr66x9cqq5r/workspaces/Adriannaluger.github.io/notebooks/ndvi_maple_fire.ipynb#X11sdnNjb2RlLXJlbW90ZQ%3D%3D?line=6'>7</a>\u001b[0m     \u001b[39m# Get date from file name\u001b[39;00m\n\u001b[1;32m      <a href='vscode-notebook-cell://codespaces%2Bfluffy-robot-4j76r6wr66x9cqq5r/workspaces/Adriannaluger.github.io/notebooks/ndvi_maple_fire.ipynb#X11sdnNjb2RlLXJlbW90ZQ%3D%3D?line=7'>8</a>\u001b[0m     doy \u001b[39m=\u001b[39m ndvi_path[doy_start:doy_end]\n\u001b[1;32m      <a href='vscode-notebook-cell://codespaces%2Bfluffy-robot-4j76r6wr66x9cqq5r/workspaces/Adriannaluger.github.io/notebooks/ndvi_maple_fire.ipynb#X11sdnNjb2RlLXJlbW90ZQ%3D%3D?line=8'>9</a>\u001b[0m     date \u001b[39m=\u001b[39m pd\u001b[39m.\u001b[39mto_datetime(doy, \u001b[39mformat\u001b[39m\u001b[39m=\u001b[39m\u001b[39m'\u001b[39m\u001b[39m%\u001b[39m\u001b[39mY\u001b[39m\u001b[39m%\u001b[39m\u001b[39mj\u001b[39m\u001b[39m'\u001b[39m)\n",
      "\u001b[0;31mNameError\u001b[0m: name 'ndvi_path_list' is not defined"
     ]
    }
   ],
   "source": [
    "doy_start = -19\n",
    "doy_end = -12\n",
    "scale_factor = 10000\n",
    "\n",
    "ndvi_da_list = []\n",
    "for ndvi_path in ndvi_path_list:\n",
    "    # Get date from file name\n",
    "    doy = ndvi_path[doy_start:doy_end]\n",
    "    date = pd.to_datetime(doy, format='%Y%j')\n",
    "\n",
    "    # Open dataset\n",
    "    da = rxr.open_rasterio(ndvi_path, masked=True).squeeze()\n",
    "\n",
    "    # Prepare to concatenate: Add date dimension and clean up metadata\n",
    "    da = da.assign_coords({'date': date})\n",
    "    da = da.expand_dims({'date': 1})\n",
    "    da.name = 'NDVI'\n",
    "\n",
    "    # Divide by scale factor\n",
    "    da = da / scale_factor\n",
    "\n",
    "    # Add the DataArray to the end of the accumulator list\n",
    "    ndvi_da_list.append(da)\n"
   ]
  },
  {
   "cell_type": "code",
   "execution_count": null,
   "metadata": {},
   "outputs": [],
   "source": [
    "ndvi_ds = xr.combine_by_coords(ndvi_da_list, coords=['date'])"
   ]
  },
  {
   "cell_type": "code",
   "execution_count": null,
   "metadata": {},
   "outputs": [],
   "source": [
    "# Calculating mean in 2019\n",
    "ndvi_mean_2019 = ndvi_ds.sel(date = '2019').mean('date').NDVI\n",
    "\n",
    "ndvi_mean_2017 = ndvi_ds.sel(date = '2017').mean('date').NDVI\n",
    "\n",
    "\n",
    "# Calculating difference between 2019-2017\n",
    "ndvi_diff = ndvi_mean_2019 - ndvi_mean_2017"
   ]
  },
  {
   "cell_type": "markdown",
   "metadata": {},
   "source": [
    "### Difference in NDVI from before and after the Maple Fire"
   ]
  },
  {
   "cell_type": "code",
   "execution_count": null,
   "metadata": {},
   "outputs": [],
   "source": [
    "import matplotlib.pyplot as plt\n",
    "\n",
    "# Plotting with matplot.lib \n",
    "fig, ax = plt.subplots(figsize=(10,8))\n",
    "ndvi_diff.plot(cmap=plt.cm.PiYG,robust=True,ax=ax)\n",
    "campfire_gdf.boundary.plot(ax=ax,color='black')\n",
    "plt.show()"
   ]
  },
  {
   "cell_type": "code",
   "execution_count": null,
   "metadata": {},
   "outputs": [],
   "source": [
    "# Get the area outside the fire boundary\n",
    "out_gdf = (\n",
    "    gpd.GeoDataFrame(geometry=campfire_gdf.envelope)\n",
    "    .overlay(campfire_gdf, how=\"difference\")\n",
    ")"
   ]
  },
  {
   "cell_type": "code",
   "execution_count": null,
   "metadata": {},
   "outputs": [],
   "source": [
    "ndvi_fire_ds = ndvi_ds.rio.clip(campfire_gdf.geometry)\n",
    "ndvi_out_ds = ndvi_ds.rio.clip(out_gdf.geometry)\n",
    "# Or do it like below\n",
    "# ndvi_ds.rio.crs, camp_gdf.crs"
   ]
  },
  {
   "cell_type": "code",
   "execution_count": null,
   "metadata": {},
   "outputs": [],
   "source": [
    "ndvi_fire_df = (\n",
    "    ndvi_fire_ds\n",
    "    .groupby(ndvi_fire_ds.date.dt.year)\n",
    "    .mean(...)\n",
    "    .NDVI\n",
    "    .to_dataframe()[['NDVI']])\n",
    "ndvi_out_df = (\n",
    "    ndvi_out_ds\n",
    "    .groupby(ndvi_out_ds.date.dt.year)\n",
    "    .mean(...)\n",
    "    .NDVI\n",
    "    .to_dataframe()[['NDVI']])"
   ]
  },
  {
   "cell_type": "code",
   "execution_count": null,
   "metadata": {},
   "outputs": [],
   "source": [
    "(ndvi_fire_df - ndvi_out_df).hvplot(\n",
    "    xlabel='Year', ylabel='dNDVI',\n",
    "    title='Difference in NDVI between inside and outside Maple fire boundary'\n",
    ")"
   ]
  },
  {
   "cell_type": "markdown",
   "metadata": {},
   "source": [
    "### Vegetation is slowly recovering after Maple Fire!\n",
    "\n",
    "There was a huge drop in NDVI during the Maple Fire of 2018, specifically from about 0 NDVI to -0.08. However, we can begin to see a slow NDVI recovery after 2021 into 2022, which we can hypothosize will continue in the coming years. NDVI does not tell us the difference between small growth and large forest growth. But, we can assume the large forest growth will take much longer to recover, thus so far what has recovered is smaller growths. "
   ]
  },
  {
   "cell_type": "code",
   "execution_count": null,
   "metadata": {},
   "outputs": [],
   "source": [
    "%%capture\n",
    "%%bash\n",
    "jupyter nbconvert ndvi_maple.ipynb --to html --no-input"
   ]
  }
 ],
 "metadata": {
  "kernelspec": {
   "display_name": "base",
   "language": "python",
   "name": "python3"
  },
  "language_info": {
   "codemirror_mode": {
    "name": "ipython",
    "version": 3
   },
   "file_extension": ".py",
   "mimetype": "text/x-python",
   "name": "python",
   "nbconvert_exporter": "python",
   "pygments_lexer": "ipython3",
   "version": "3.10.11"
  }
 },
 "nbformat": 4,
 "nbformat_minor": 2
}
